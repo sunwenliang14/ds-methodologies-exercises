{
 "cells": [
  {
   "cell_type": "code",
   "execution_count": 1,
   "metadata": {},
   "outputs": [],
   "source": [
    "import warnings\n",
    "warnings.filterwarnings(\"ignore\")\n",
    "# Wrangling\n",
    "import numpy as np\n",
    "import pandas as pd\n",
    "import matplotlib.pyplot as plt\n",
    "import seaborn as sns\n",
    "from env import get_db_url"
   ]
  },
  {
   "cell_type": "code",
   "execution_count": 2,
   "metadata": {},
   "outputs": [],
   "source": [
    "url = get_db_url(\"zillow\")\n",
    "\n",
    "sql = \"\"\"\n",
    "select * from properties_2017\n",
    "join predictions_2017 using(parcelid)\n",
    "left join airconditioningtype using(airconditioningtypeid)\n",
    "left join architecturalstyletype using(architecturalstyletypeid)\n",
    "left join buildingclasstype using(buildingclasstypeid)\n",
    "left join heatingorsystemtype using(heatingorsystemtypeid)\n",
    "left join propertylandusetype using(propertylandusetypeid)\n",
    "left join storytype using(storytypeid)\n",
    "left join typeconstructiontype using(typeconstructiontypeid)\n",
    "where latitude IS NOT NULL\n",
    "and longitude IS NOT NULL\n",
    "\"\"\"\n",
    "\n",
    "df = pd.read_sql(sql, url)\n",
    "df.to_csv(\"zillow.csv\")"
   ]
  },
  {
   "cell_type": "code",
   "execution_count": 3,
   "metadata": {},
   "outputs": [
    {
     "data": {
      "text/html": [
       "<div>\n",
       "<style scoped>\n",
       "    .dataframe tbody tr th:only-of-type {\n",
       "        vertical-align: middle;\n",
       "    }\n",
       "\n",
       "    .dataframe tbody tr th {\n",
       "        vertical-align: top;\n",
       "    }\n",
       "\n",
       "    .dataframe thead th {\n",
       "        text-align: right;\n",
       "    }\n",
       "</style>\n",
       "<table border=\"1\" class=\"dataframe\">\n",
       "  <thead>\n",
       "    <tr style=\"text-align: right;\">\n",
       "      <th></th>\n",
       "      <th>Unnamed: 0</th>\n",
       "      <th>typeconstructiontypeid</th>\n",
       "      <th>storytypeid</th>\n",
       "      <th>propertylandusetypeid</th>\n",
       "      <th>heatingorsystemtypeid</th>\n",
       "      <th>buildingclasstypeid</th>\n",
       "      <th>architecturalstyletypeid</th>\n",
       "      <th>airconditioningtypeid</th>\n",
       "      <th>parcelid</th>\n",
       "      <th>id</th>\n",
       "      <th>...</th>\n",
       "      <th>id.1</th>\n",
       "      <th>logerror</th>\n",
       "      <th>transactiondate</th>\n",
       "      <th>airconditioningdesc</th>\n",
       "      <th>architecturalstyledesc</th>\n",
       "      <th>buildingclassdesc</th>\n",
       "      <th>heatingorsystemdesc</th>\n",
       "      <th>propertylandusedesc</th>\n",
       "      <th>storydesc</th>\n",
       "      <th>typeconstructiondesc</th>\n",
       "    </tr>\n",
       "  </thead>\n",
       "  <tbody>\n",
       "    <tr>\n",
       "      <th>0</th>\n",
       "      <td>0</td>\n",
       "      <td>NaN</td>\n",
       "      <td>NaN</td>\n",
       "      <td>261.0</td>\n",
       "      <td>NaN</td>\n",
       "      <td>NaN</td>\n",
       "      <td>NaN</td>\n",
       "      <td>NaN</td>\n",
       "      <td>14297519</td>\n",
       "      <td>1727539</td>\n",
       "      <td>...</td>\n",
       "      <td>0</td>\n",
       "      <td>0.025595</td>\n",
       "      <td>2017-01-01</td>\n",
       "      <td>NaN</td>\n",
       "      <td>NaN</td>\n",
       "      <td>NaN</td>\n",
       "      <td>NaN</td>\n",
       "      <td>Single Family Residential</td>\n",
       "      <td>NaN</td>\n",
       "      <td>NaN</td>\n",
       "    </tr>\n",
       "    <tr>\n",
       "      <th>1</th>\n",
       "      <td>1</td>\n",
       "      <td>NaN</td>\n",
       "      <td>NaN</td>\n",
       "      <td>261.0</td>\n",
       "      <td>NaN</td>\n",
       "      <td>NaN</td>\n",
       "      <td>NaN</td>\n",
       "      <td>NaN</td>\n",
       "      <td>17052889</td>\n",
       "      <td>1387261</td>\n",
       "      <td>...</td>\n",
       "      <td>1</td>\n",
       "      <td>0.055619</td>\n",
       "      <td>2017-01-01</td>\n",
       "      <td>NaN</td>\n",
       "      <td>NaN</td>\n",
       "      <td>NaN</td>\n",
       "      <td>NaN</td>\n",
       "      <td>Single Family Residential</td>\n",
       "      <td>NaN</td>\n",
       "      <td>NaN</td>\n",
       "    </tr>\n",
       "    <tr>\n",
       "      <th>2</th>\n",
       "      <td>2</td>\n",
       "      <td>NaN</td>\n",
       "      <td>NaN</td>\n",
       "      <td>261.0</td>\n",
       "      <td>NaN</td>\n",
       "      <td>NaN</td>\n",
       "      <td>NaN</td>\n",
       "      <td>NaN</td>\n",
       "      <td>14186244</td>\n",
       "      <td>11677</td>\n",
       "      <td>...</td>\n",
       "      <td>2</td>\n",
       "      <td>0.005383</td>\n",
       "      <td>2017-01-01</td>\n",
       "      <td>NaN</td>\n",
       "      <td>NaN</td>\n",
       "      <td>NaN</td>\n",
       "      <td>NaN</td>\n",
       "      <td>Single Family Residential</td>\n",
       "      <td>NaN</td>\n",
       "      <td>NaN</td>\n",
       "    </tr>\n",
       "    <tr>\n",
       "      <th>3</th>\n",
       "      <td>3</td>\n",
       "      <td>NaN</td>\n",
       "      <td>NaN</td>\n",
       "      <td>261.0</td>\n",
       "      <td>2.0</td>\n",
       "      <td>NaN</td>\n",
       "      <td>NaN</td>\n",
       "      <td>NaN</td>\n",
       "      <td>12177905</td>\n",
       "      <td>2288172</td>\n",
       "      <td>...</td>\n",
       "      <td>3</td>\n",
       "      <td>-0.103410</td>\n",
       "      <td>2017-01-01</td>\n",
       "      <td>NaN</td>\n",
       "      <td>NaN</td>\n",
       "      <td>NaN</td>\n",
       "      <td>Central</td>\n",
       "      <td>Single Family Residential</td>\n",
       "      <td>NaN</td>\n",
       "      <td>NaN</td>\n",
       "    </tr>\n",
       "    <tr>\n",
       "      <th>4</th>\n",
       "      <td>4</td>\n",
       "      <td>NaN</td>\n",
       "      <td>NaN</td>\n",
       "      <td>266.0</td>\n",
       "      <td>2.0</td>\n",
       "      <td>NaN</td>\n",
       "      <td>NaN</td>\n",
       "      <td>1.0</td>\n",
       "      <td>10887214</td>\n",
       "      <td>1970746</td>\n",
       "      <td>...</td>\n",
       "      <td>4</td>\n",
       "      <td>0.006940</td>\n",
       "      <td>2017-01-01</td>\n",
       "      <td>Central</td>\n",
       "      <td>NaN</td>\n",
       "      <td>NaN</td>\n",
       "      <td>Central</td>\n",
       "      <td>Condominium</td>\n",
       "      <td>NaN</td>\n",
       "      <td>NaN</td>\n",
       "    </tr>\n",
       "  </tbody>\n",
       "</table>\n",
       "<p>5 rows × 70 columns</p>\n",
       "</div>"
      ],
      "text/plain": [
       "   Unnamed: 0  typeconstructiontypeid  storytypeid  propertylandusetypeid  \\\n",
       "0           0                     NaN          NaN                  261.0   \n",
       "1           1                     NaN          NaN                  261.0   \n",
       "2           2                     NaN          NaN                  261.0   \n",
       "3           3                     NaN          NaN                  261.0   \n",
       "4           4                     NaN          NaN                  266.0   \n",
       "\n",
       "   heatingorsystemtypeid  buildingclasstypeid  architecturalstyletypeid  \\\n",
       "0                    NaN                  NaN                       NaN   \n",
       "1                    NaN                  NaN                       NaN   \n",
       "2                    NaN                  NaN                       NaN   \n",
       "3                    2.0                  NaN                       NaN   \n",
       "4                    2.0                  NaN                       NaN   \n",
       "\n",
       "   airconditioningtypeid  parcelid       id  ...  id.1  logerror  \\\n",
       "0                    NaN  14297519  1727539  ...     0  0.025595   \n",
       "1                    NaN  17052889  1387261  ...     1  0.055619   \n",
       "2                    NaN  14186244    11677  ...     2  0.005383   \n",
       "3                    NaN  12177905  2288172  ...     3 -0.103410   \n",
       "4                    1.0  10887214  1970746  ...     4  0.006940   \n",
       "\n",
       "   transactiondate  airconditioningdesc  architecturalstyledesc  \\\n",
       "0       2017-01-01                  NaN                     NaN   \n",
       "1       2017-01-01                  NaN                     NaN   \n",
       "2       2017-01-01                  NaN                     NaN   \n",
       "3       2017-01-01                  NaN                     NaN   \n",
       "4       2017-01-01              Central                     NaN   \n",
       "\n",
       "   buildingclassdesc  heatingorsystemdesc        propertylandusedesc  \\\n",
       "0                NaN                  NaN  Single Family Residential   \n",
       "1                NaN                  NaN  Single Family Residential   \n",
       "2                NaN                  NaN  Single Family Residential   \n",
       "3                NaN              Central  Single Family Residential   \n",
       "4                NaN              Central                Condominium   \n",
       "\n",
       "   storydesc  typeconstructiondesc  \n",
       "0        NaN                   NaN  \n",
       "1        NaN                   NaN  \n",
       "2        NaN                   NaN  \n",
       "3        NaN                   NaN  \n",
       "4        NaN                   NaN  \n",
       "\n",
       "[5 rows x 70 columns]"
      ]
     },
     "execution_count": 3,
     "metadata": {},
     "output_type": "execute_result"
    }
   ],
   "source": [
    "df = pd.read_csv(\"zillow.csv\")\n",
    "df.head()"
   ]
  },
  {
   "cell_type": "code",
   "execution_count": 4,
   "metadata": {},
   "outputs": [
    {
     "name": "stdout",
     "output_type": "stream",
     "text": [
      "<class 'pandas.core.frame.DataFrame'>\n",
      "RangeIndex: 77580 entries, 0 to 77579\n",
      "Data columns (total 70 columns):\n",
      "Unnamed: 0                      77580 non-null int64\n",
      "typeconstructiontypeid          223 non-null float64\n",
      "storytypeid                     50 non-null float64\n",
      "propertylandusetypeid           77580 non-null float64\n",
      "heatingorsystemtypeid           49572 non-null float64\n",
      "buildingclasstypeid             15 non-null float64\n",
      "architecturalstyletypeid        207 non-null float64\n",
      "airconditioningtypeid           25007 non-null float64\n",
      "parcelid                        77580 non-null int64\n",
      "id                              77580 non-null int64\n",
      "basementsqft                    50 non-null float64\n",
      "bathroomcnt                     77580 non-null float64\n",
      "bedroomcnt                      77580 non-null float64\n",
      "buildingqualitytypeid           49810 non-null float64\n",
      "calculatedbathnbr               76964 non-null float64\n",
      "decktypeid                      614 non-null float64\n",
      "finishedfloor1squarefeet        6037 non-null float64\n",
      "calculatedfinishedsquarefeet    77379 non-null float64\n",
      "finishedsquarefeet12            73924 non-null float64\n",
      "finishedsquarefeet13            42 non-null float64\n",
      "finishedsquarefeet15            3027 non-null float64\n",
      "finishedsquarefeet50            6037 non-null float64\n",
      "finishedsquarefeet6             386 non-null float64\n",
      "fips                            77580 non-null float64\n",
      "fireplacecnt                    8289 non-null float64\n",
      "fullbathcnt                     76964 non-null float64\n",
      "garagecarcnt                    25520 non-null float64\n",
      "garagetotalsqft                 25520 non-null float64\n",
      "hashottuborspa                  1539 non-null float64\n",
      "latitude                        77580 non-null float64\n",
      "longitude                       77580 non-null float64\n",
      "lotsizesquarefeet               69322 non-null float64\n",
      "poolcnt                         16174 non-null float64\n",
      "poolsizesum                     869 non-null float64\n",
      "pooltypeid10                    465 non-null float64\n",
      "pooltypeid2                     1074 non-null float64\n",
      "pooltypeid7                     15079 non-null float64\n",
      "propertycountylandusecode       77580 non-null object\n",
      "propertyzoningdesc              50477 non-null object\n",
      "rawcensustractandblock          77580 non-null float64\n",
      "regionidcity                    76108 non-null float64\n",
      "regionidcounty                  77580 non-null float64\n",
      "regionidneighborhood            30974 non-null float64\n",
      "regionidzip                     77530 non-null float64\n",
      "roomcnt                         77580 non-null float64\n",
      "threequarterbathnbr             10106 non-null float64\n",
      "unitcnt                         50704 non-null float64\n",
      "yardbuildingsqft17              2393 non-null float64\n",
      "yardbuildingsqft26              70 non-null float64\n",
      "yearbuilt                       77310 non-null float64\n",
      "numberofstories                 17599 non-null float64\n",
      "fireplaceflag                   172 non-null float64\n",
      "structuretaxvaluedollarcnt      77465 non-null float64\n",
      "taxvaluedollarcnt               77579 non-null float64\n",
      "assessmentyear                  77580 non-null float64\n",
      "landtaxvaluedollarcnt           77578 non-null float64\n",
      "taxamount                       77575 non-null float64\n",
      "taxdelinquencyflag              2900 non-null object\n",
      "taxdelinquencyyear              2900 non-null float64\n",
      "censustractandblock             77333 non-null float64\n",
      "id.1                            77580 non-null int64\n",
      "logerror                        77580 non-null float64\n",
      "transactiondate                 77580 non-null object\n",
      "airconditioningdesc             25007 non-null object\n",
      "architecturalstyledesc          207 non-null object\n",
      "buildingclassdesc               15 non-null object\n",
      "heatingorsystemdesc             49572 non-null object\n",
      "propertylandusedesc             77580 non-null object\n",
      "storydesc                       50 non-null object\n",
      "typeconstructiondesc            223 non-null object\n",
      "dtypes: float64(55), int64(4), object(11)\n",
      "memory usage: 41.4+ MB\n"
     ]
    }
   ],
   "source": [
    "df.info()"
   ]
  },
  {
   "cell_type": "code",
   "execution_count": 5,
   "metadata": {},
   "outputs": [
    {
     "data": {
      "text/plain": [
       "(77580, 70)"
      ]
     },
     "execution_count": 5,
     "metadata": {},
     "output_type": "execute_result"
    }
   ],
   "source": [
    "df.shape"
   ]
  },
  {
   "cell_type": "code",
   "execution_count": 6,
   "metadata": {
    "scrolled": true
   },
   "outputs": [
    {
     "data": {
      "text/plain": [
       "Unnamed: 0                  int64\n",
       "typeconstructiontypeid    float64\n",
       "storytypeid               float64\n",
       "propertylandusetypeid     float64\n",
       "heatingorsystemtypeid     float64\n",
       "                           ...   \n",
       "buildingclassdesc          object\n",
       "heatingorsystemdesc        object\n",
       "propertylandusedesc        object\n",
       "storydesc                  object\n",
       "typeconstructiondesc       object\n",
       "Length: 70, dtype: object"
      ]
     },
     "execution_count": 6,
     "metadata": {},
     "output_type": "execute_result"
    }
   ],
   "source": [
    "df.dtypes"
   ]
  },
  {
   "cell_type": "code",
   "execution_count": 7,
   "metadata": {},
   "outputs": [
    {
     "data": {
      "text/plain": [
       "Unnamed: 0                    0\n",
       "typeconstructiontypeid    77357\n",
       "storytypeid               77530\n",
       "propertylandusetypeid         0\n",
       "heatingorsystemtypeid     28008\n",
       "                          ...  \n",
       "buildingclassdesc         77565\n",
       "heatingorsystemdesc       28008\n",
       "propertylandusedesc           0\n",
       "storydesc                 77530\n",
       "typeconstructiondesc      77357\n",
       "Length: 70, dtype: int64"
      ]
     },
     "execution_count": 7,
     "metadata": {},
     "output_type": "execute_result"
    }
   ],
   "source": [
    "df.isnull().sum()"
   ]
  },
  {
   "cell_type": "code",
   "execution_count": 8,
   "metadata": {},
   "outputs": [
    {
     "data": {
      "text/plain": [
       "<matplotlib.axes._subplots.AxesSubplot at 0x124051e50>"
      ]
     },
     "execution_count": 8,
     "metadata": {},
     "output_type": "execute_result"
    },
    {
     "data": {
      "image/png": "[encoded data removed]",
      "text/plain": [
       "<Figure size 432x288 with 1 Axes>"
      ]
     },
     "metadata": {
      "needs_background": "light"
     },
     "output_type": "display_data"
    }
   ],
   "source": [
    "df.bedroomcnt.hist()"
   ]
  },
  {
   "cell_type": "code",
   "execution_count": 9,
   "metadata": {},
   "outputs": [
    {
     "data": {
      "text/plain": [
       "<matplotlib.axes._subplots.AxesSubplot at 0x1068ee650>"
      ]
     },
     "execution_count": 9,
     "metadata": {},
     "output_type": "execute_result"
    },
    {
     "data": {
      "image/png": "[encoded data removed]",
      "text/plain": [
       "<Figure size 432x288 with 1 Axes>"
      ]
     },
     "metadata": {
      "needs_background": "light"
     },
     "output_type": "display_data"
    }
   ],
   "source": [
    "df.bathroomcnt.hist()"
   ]
  },
  {
   "cell_type": "code",
   "execution_count": 10,
   "metadata": {},
   "outputs": [
    {
     "data": {
      "text/plain": [
       "array([[<matplotlib.axes._subplots.AxesSubplot object at 0x122956c50>,\n",
       "        <matplotlib.axes._subplots.AxesSubplot object at 0x121d87450>,\n",
       "        <matplotlib.axes._subplots.AxesSubplot object at 0x121af7850>,\n",
       "        <matplotlib.axes._subplots.AxesSubplot object at 0x121f32cd0>,\n",
       "        <matplotlib.axes._subplots.AxesSubplot object at 0x121f75390>,\n",
       "        <matplotlib.axes._subplots.AxesSubplot object at 0x121faba10>,\n",
       "        <matplotlib.axes._subplots.AxesSubplot object at 0x121fed150>,\n",
       "        <matplotlib.axes._subplots.AxesSubplot object at 0x122025710>],\n",
       "       [<matplotlib.axes._subplots.AxesSubplot object at 0x122025750>,\n",
       "        <matplotlib.axes._subplots.AxesSubplot object at 0x122058ed0>,\n",
       "        <matplotlib.axes._subplots.AxesSubplot object at 0x1220d1b10>,\n",
       "        <matplotlib.axes._subplots.AxesSubplot object at 0x1221151d0>,\n",
       "        <matplotlib.axes._subplots.AxesSubplot object at 0x12214a850>,\n",
       "        <matplotlib.axes._subplots.AxesSubplot object at 0x122181ed0>,\n",
       "        <matplotlib.axes._subplots.AxesSubplot object at 0x1221c3590>,\n",
       "        <matplotlib.axes._subplots.AxesSubplot object at 0x1221f9c10>],\n",
       "       [<matplotlib.axes._subplots.AxesSubplot object at 0x12223a2d0>,\n",
       "        <matplotlib.axes._subplots.AxesSubplot object at 0x1227d5950>,\n",
       "        <matplotlib.axes._subplots.AxesSubplot object at 0x122a83b10>,\n",
       "        <matplotlib.axes._subplots.AxesSubplot object at 0x122acd690>,\n",
       "        <matplotlib.axes._subplots.AxesSubplot object at 0x122b04d10>,\n",
       "        <matplotlib.axes._subplots.AxesSubplot object at 0x122b463d0>,\n",
       "        <matplotlib.axes._subplots.AxesSubplot object at 0x122b7ca50>,\n",
       "        <matplotlib.axes._subplots.AxesSubplot object at 0x122bbf110>],\n",
       "       [<matplotlib.axes._subplots.AxesSubplot object at 0x122bf5790>,\n",
       "        <matplotlib.axes._subplots.AxesSubplot object at 0x122c2be10>,\n",
       "        <matplotlib.axes._subplots.AxesSubplot object at 0x122c6e4d0>,\n",
       "        <matplotlib.axes._subplots.AxesSubplot object at 0x122ca3b50>,\n",
       "        <matplotlib.axes._subplots.AxesSubplot object at 0x122ce6210>,\n",
       "        <matplotlib.axes._subplots.AxesSubplot object at 0x122d1d890>,\n",
       "        <matplotlib.axes._subplots.AxesSubplot object at 0x122d52f10>,\n",
       "        <matplotlib.axes._subplots.AxesSubplot object at 0x122d8cd90>],\n",
       "       [<matplotlib.axes._subplots.AxesSubplot object at 0x122dd1350>,\n",
       "        <matplotlib.axes._subplots.AxesSubplot object at 0x122e078d0>,\n",
       "        <matplotlib.axes._subplots.AxesSubplot object at 0x122e3ce50>,\n",
       "        <matplotlib.axes._subplots.AxesSubplot object at 0x122e7d410>,\n",
       "        <matplotlib.axes._subplots.AxesSubplot object at 0x122eb3990>,\n",
       "        <matplotlib.axes._subplots.AxesSubplot object at 0x122eeaf10>,\n",
       "        <matplotlib.axes._subplots.AxesSubplot object at 0x122f2e4d0>,\n",
       "        <matplotlib.axes._subplots.AxesSubplot object at 0x122f61a50>],\n",
       "       [<matplotlib.axes._subplots.AxesSubplot object at 0x12313cb10>,\n",
       "        <matplotlib.axes._subplots.AxesSubplot object at 0x123188590>,\n",
       "        <matplotlib.axes._subplots.AxesSubplot object at 0x1231beb10>,\n",
       "        <matplotlib.axes._subplots.AxesSubplot object at 0x1231ff0d0>,\n",
       "        <matplotlib.axes._subplots.AxesSubplot object at 0x123235650>,\n",
       "        <matplotlib.axes._subplots.AxesSubplot object at 0x12326cbd0>,\n",
       "        <matplotlib.axes._subplots.AxesSubplot object at 0x1232ad190>,\n",
       "        <matplotlib.axes._subplots.AxesSubplot object at 0x1232e4710>],\n",
       "       [<matplotlib.axes._subplots.AxesSubplot object at 0x123318c90>,\n",
       "        <matplotlib.axes._subplots.AxesSubplot object at 0x12335b250>,\n",
       "        <matplotlib.axes._subplots.AxesSubplot object at 0x1233907d0>,\n",
       "        <matplotlib.axes._subplots.AxesSubplot object at 0x1233c6d50>,\n",
       "        <matplotlib.axes._subplots.AxesSubplot object at 0x123409310>,\n",
       "        <matplotlib.axes._subplots.AxesSubplot object at 0x12343f890>,\n",
       "        <matplotlib.axes._subplots.AxesSubplot object at 0x1234c5e10>,\n",
       "        <matplotlib.axes._subplots.AxesSubplot object at 0x1235093d0>],\n",
       "       [<matplotlib.axes._subplots.AxesSubplot object at 0x12353d950>,\n",
       "        <matplotlib.axes._subplots.AxesSubplot object at 0x123574ed0>,\n",
       "        <matplotlib.axes._subplots.AxesSubplot object at 0x121ff6190>,\n",
       "        <matplotlib.axes._subplots.AxesSubplot object at 0x1221c3990>,\n",
       "        <matplotlib.axes._subplots.AxesSubplot object at 0x122b52c50>,\n",
       "        <matplotlib.axes._subplots.AxesSubplot object at 0x122cf1650>,\n",
       "        <matplotlib.axes._subplots.AxesSubplot object at 0x1236854d0>,\n",
       "        <matplotlib.axes._subplots.AxesSubplot object at 0x1236bbb50>]],\n",
       "      dtype=object)"
      ]
     },
     "execution_count": 10,
     "metadata": {},
     "output_type": "execute_result"
    },
    {
     "data": {
      "image/png": "[encoded data removed]",
      "text/plain": [
       "<Figure size 1440x1440 with 64 Axes>"
      ]
     },
     "metadata": {
      "needs_background": "light"
     },
     "output_type": "display_data"
    }
   ],
   "source": [
    "df.hist(figsize=(20, 20))"
   ]
  },
  {
   "cell_type": "markdown",
   "metadata": {},
   "source": [
    "Write a function that takes in a dataframe of observations and attributes and returns a dataframe where each row is an atttribute name, the first column is the number of rows with missing values for that attribute, and the second column is percent of total rows that have missing values for that attribute. Run the function and document takeaways from this on how you want to handle missing values."
   ]
  },
  {
   "cell_type": "code",
   "execution_count": 11,
   "metadata": {},
   "outputs": [],
   "source": [
    "# figure out how much data is missing and the percent of missing data\n",
    "def nulls_by_col(df):\n",
    "    num_missing = df.isnull().sum()\n",
    "    rows = df.shape[0]\n",
    "    pct_missing = num_missing / rows\n",
    "    cols_missing = pd.DataFrame({'num_rows_missing': num_missing, 'pct_rows_missing': pct_missing})\n",
    "    return cols_missing"
   ]
  },
  {
   "cell_type": "code",
   "execution_count": 12,
   "metadata": {},
   "outputs": [
    {
     "data": {
      "text/html": [
       "<div>\n",
       "<style scoped>\n",
       "    .dataframe tbody tr th:only-of-type {\n",
       "        vertical-align: middle;\n",
       "    }\n",
       "\n",
       "    .dataframe tbody tr th {\n",
       "        vertical-align: top;\n",
       "    }\n",
       "\n",
       "    .dataframe thead th {\n",
       "        text-align: right;\n",
       "    }\n",
       "</style>\n",
       "<table border=\"1\" class=\"dataframe\">\n",
       "  <thead>\n",
       "    <tr style=\"text-align: right;\">\n",
       "      <th></th>\n",
       "      <th>num_rows_missing</th>\n",
       "      <th>pct_rows_missing</th>\n",
       "    </tr>\n",
       "  </thead>\n",
       "  <tbody>\n",
       "    <tr>\n",
       "      <th>Unnamed: 0</th>\n",
       "      <td>0</td>\n",
       "      <td>0.000000</td>\n",
       "    </tr>\n",
       "    <tr>\n",
       "      <th>typeconstructiontypeid</th>\n",
       "      <td>77357</td>\n",
       "      <td>0.997126</td>\n",
       "    </tr>\n",
       "    <tr>\n",
       "      <th>storytypeid</th>\n",
       "      <td>77530</td>\n",
       "      <td>0.999356</td>\n",
       "    </tr>\n",
       "    <tr>\n",
       "      <th>propertylandusetypeid</th>\n",
       "      <td>0</td>\n",
       "      <td>0.000000</td>\n",
       "    </tr>\n",
       "    <tr>\n",
       "      <th>heatingorsystemtypeid</th>\n",
       "      <td>28008</td>\n",
       "      <td>0.361021</td>\n",
       "    </tr>\n",
       "    <tr>\n",
       "      <th>...</th>\n",
       "      <td>...</td>\n",
       "      <td>...</td>\n",
       "    </tr>\n",
       "    <tr>\n",
       "      <th>buildingclassdesc</th>\n",
       "      <td>77565</td>\n",
       "      <td>0.999807</td>\n",
       "    </tr>\n",
       "    <tr>\n",
       "      <th>heatingorsystemdesc</th>\n",
       "      <td>28008</td>\n",
       "      <td>0.361021</td>\n",
       "    </tr>\n",
       "    <tr>\n",
       "      <th>propertylandusedesc</th>\n",
       "      <td>0</td>\n",
       "      <td>0.000000</td>\n",
       "    </tr>\n",
       "    <tr>\n",
       "      <th>storydesc</th>\n",
       "      <td>77530</td>\n",
       "      <td>0.999356</td>\n",
       "    </tr>\n",
       "    <tr>\n",
       "      <th>typeconstructiondesc</th>\n",
       "      <td>77357</td>\n",
       "      <td>0.997126</td>\n",
       "    </tr>\n",
       "  </tbody>\n",
       "</table>\n",
       "<p>70 rows × 2 columns</p>\n",
       "</div>"
      ],
      "text/plain": [
       "                        num_rows_missing  pct_rows_missing\n",
       "Unnamed: 0                             0          0.000000\n",
       "typeconstructiontypeid             77357          0.997126\n",
       "storytypeid                        77530          0.999356\n",
       "propertylandusetypeid                  0          0.000000\n",
       "heatingorsystemtypeid              28008          0.361021\n",
       "...                                  ...               ...\n",
       "buildingclassdesc                  77565          0.999807\n",
       "heatingorsystemdesc                28008          0.361021\n",
       "propertylandusedesc                    0          0.000000\n",
       "storydesc                          77530          0.999356\n",
       "typeconstructiondesc               77357          0.997126\n",
       "\n",
       "[70 rows x 2 columns]"
      ]
     },
     "execution_count": 12,
     "metadata": {},
     "output_type": "execute_result"
    }
   ],
   "source": [
    "nulls_by_column = nulls_by_col(df)\n",
    "nulls_by_column"
   ]
  },
  {
   "cell_type": "code",
   "execution_count": 41,
   "metadata": {},
   "outputs": [
    {
     "data": {
      "text/html": [
       "<div>\n",
       "<style scoped>\n",
       "    .dataframe tbody tr th:only-of-type {\n",
       "        vertical-align: middle;\n",
       "    }\n",
       "\n",
       "    .dataframe tbody tr th {\n",
       "        vertical-align: top;\n",
       "    }\n",
       "\n",
       "    .dataframe thead th {\n",
       "        text-align: right;\n",
       "    }\n",
       "</style>\n",
       "<table border=\"1\" class=\"dataframe\">\n",
       "  <thead>\n",
       "    <tr style=\"text-align: right;\">\n",
       "      <th></th>\n",
       "      <th>num_cols_missing</th>\n",
       "      <th>pct_cols_missing</th>\n",
       "      <th>num_rows</th>\n",
       "    </tr>\n",
       "  </thead>\n",
       "  <tbody>\n",
       "    <tr>\n",
       "      <th>0</th>\n",
       "      <td>0</td>\n",
       "      <td>0.0</td>\n",
       "      <td>32686</td>\n",
       "    </tr>\n",
       "    <tr>\n",
       "      <th>1</th>\n",
       "      <td>1</td>\n",
       "      <td>3.333</td>\n",
       "      <td>18886</td>\n",
       "    </tr>\n",
       "    <tr>\n",
       "      <th>2</th>\n",
       "      <td>2</td>\n",
       "      <td>6.667</td>\n",
       "      <td>625</td>\n",
       "    </tr>\n",
       "    <tr>\n",
       "      <th>3</th>\n",
       "      <td>3</td>\n",
       "      <td>10.0</td>\n",
       "      <td>23</td>\n",
       "    </tr>\n",
       "    <tr>\n",
       "      <th>4</th>\n",
       "      <td>4</td>\n",
       "      <td>13.333</td>\n",
       "      <td>40</td>\n",
       "    </tr>\n",
       "    <tr>\n",
       "      <th>5</th>\n",
       "      <td>5</td>\n",
       "      <td>16.667</td>\n",
       "      <td>7</td>\n",
       "    </tr>\n",
       "    <tr>\n",
       "      <th>6</th>\n",
       "      <td>6</td>\n",
       "      <td>20.0</td>\n",
       "      <td>1</td>\n",
       "    </tr>\n",
       "  </tbody>\n",
       "</table>\n",
       "</div>"
      ],
      "text/plain": [
       "  num_cols_missing pct_cols_missing  num_rows\n",
       "0                0              0.0     32686\n",
       "1                1            3.333     18886\n",
       "2                2            6.667       625\n",
       "3                3             10.0        23\n",
       "4                4           13.333        40\n",
       "5                5           16.667         7\n",
       "6                6             20.0         1"
      ]
     },
     "execution_count": 41,
     "metadata": {},
     "output_type": "execute_result"
    }
   ],
   "source": [
    "def nulls_by_row(df):\n",
    "    num_cols_missing = df.isnull().sum(axis=1)\n",
    "    pct_cols_missing = (df.isnull().sum(axis=1)/df.shape[1]*100).round(3)\n",
    "    rows_missing = pd.DataFrame({'num_cols_missing': num_cols_missing, 'pct_cols_missing': pct_cols_missing}).reset_index().groupby(['num_cols_missing','pct_cols_missing']).count().rename(index=str, columns={'index': 'num_rows'}).reset_index()\n",
    "    return rows_missing \n",
    "\n",
    "null_rows = nulls_by_row(df)\n",
    "null_rows"
   ]
  },
  {
   "cell_type": "code",
   "execution_count": 14,
   "metadata": {},
   "outputs": [
    {
     "data": {
      "text/plain": [
       "['Unnamed: 0',\n",
       " 'typeconstructiontypeid',\n",
       " 'storytypeid',\n",
       " 'propertylandusetypeid',\n",
       " 'heatingorsystemtypeid',\n",
       " 'buildingclasstypeid',\n",
       " 'architecturalstyletypeid',\n",
       " 'airconditioningtypeid',\n",
       " 'parcelid',\n",
       " 'id',\n",
       " 'basementsqft',\n",
       " 'bathroomcnt',\n",
       " 'bedroomcnt',\n",
       " 'buildingqualitytypeid',\n",
       " 'calculatedbathnbr',\n",
       " 'decktypeid',\n",
       " 'finishedfloor1squarefeet',\n",
       " 'calculatedfinishedsquarefeet',\n",
       " 'finishedsquarefeet12',\n",
       " 'finishedsquarefeet13',\n",
       " 'finishedsquarefeet15',\n",
       " 'finishedsquarefeet50',\n",
       " 'finishedsquarefeet6',\n",
       " 'fips',\n",
       " 'fireplacecnt',\n",
       " 'fullbathcnt',\n",
       " 'garagecarcnt',\n",
       " 'garagetotalsqft',\n",
       " 'hashottuborspa',\n",
       " 'latitude',\n",
       " 'longitude',\n",
       " 'lotsizesquarefeet',\n",
       " 'poolcnt',\n",
       " 'poolsizesum',\n",
       " 'pooltypeid10',\n",
       " 'pooltypeid2',\n",
       " 'pooltypeid7',\n",
       " 'propertycountylandusecode',\n",
       " 'propertyzoningdesc',\n",
       " 'rawcensustractandblock',\n",
       " 'regionidcity',\n",
       " 'regionidcounty',\n",
       " 'regionidneighborhood',\n",
       " 'regionidzip',\n",
       " 'roomcnt',\n",
       " 'threequarterbathnbr',\n",
       " 'unitcnt',\n",
       " 'yardbuildingsqft17',\n",
       " 'yardbuildingsqft26',\n",
       " 'yearbuilt',\n",
       " 'numberofstories',\n",
       " 'fireplaceflag',\n",
       " 'structuretaxvaluedollarcnt',\n",
       " 'taxvaluedollarcnt',\n",
       " 'assessmentyear',\n",
       " 'landtaxvaluedollarcnt',\n",
       " 'taxamount',\n",
       " 'taxdelinquencyflag',\n",
       " 'taxdelinquencyyear',\n",
       " 'censustractandblock',\n",
       " 'id.1',\n",
       " 'logerror',\n",
       " 'transactiondate',\n",
       " 'airconditioningdesc',\n",
       " 'architecturalstyledesc',\n",
       " 'buildingclassdesc',\n",
       " 'heatingorsystemdesc',\n",
       " 'propertylandusedesc',\n",
       " 'storydesc',\n",
       " 'typeconstructiondesc']"
      ]
     },
     "execution_count": 14,
     "metadata": {},
     "output_type": "execute_result"
    }
   ],
   "source": [
    "df.columns.tolist()"
   ]
  },
  {
   "cell_type": "code",
   "execution_count": 15,
   "metadata": {},
   "outputs": [],
   "source": [
    "# .isin([collection])\n",
    "df = df[df.propertylandusetypeid.isin([260, 261, 262, 279])]"
   ]
  },
  {
   "cell_type": "code",
   "execution_count": 16,
   "metadata": {},
   "outputs": [
    {
     "data": {
      "text/plain": [
       "(52300, 70)"
      ]
     },
     "execution_count": 16,
     "metadata": {},
     "output_type": "execute_result"
    }
   ],
   "source": [
    "# Only retain homes with a positive number of bedrooms and bathrooms\n",
    "df = df[(df.bedroomcnt > 0) & (df.bathroomcnt > 0)]\n",
    "df.shape"
   ]
  },
  {
   "cell_type": "code",
   "execution_count": 17,
   "metadata": {},
   "outputs": [
    {
     "data": {
      "text/plain": [
       "1.0    33783\n",
       "2.0       28\n",
       "4.0        3\n",
       "3.0        1\n",
       "Name: unitcnt, dtype: int64"
      ]
     },
     "execution_count": 17,
     "metadata": {},
     "output_type": "execute_result"
    }
   ],
   "source": [
    "df.unitcnt.value_counts()"
   ]
  },
  {
   "cell_type": "code",
   "execution_count": 18,
   "metadata": {},
   "outputs": [
    {
     "data": {
      "text/plain": [
       "18485"
      ]
     },
     "execution_count": 18,
     "metadata": {},
     "output_type": "execute_result"
    }
   ],
   "source": [
    "# 18485 null unit counts. They're probably unit counts of 1.\n",
    "df.unitcnt.isnull().sum()"
   ]
  },
  {
   "cell_type": "code",
   "execution_count": 19,
   "metadata": {},
   "outputs": [
    {
     "data": {
      "text/plain": [
       "(52300, 70)"
      ]
     },
     "execution_count": 19,
     "metadata": {},
     "output_type": "execute_result"
    }
   ],
   "source": [
    "df.unitcnt = df.unitcnt.fillna(1.0)\n",
    "df.shape"
   ]
  },
  {
   "cell_type": "code",
   "execution_count": 20,
   "metadata": {},
   "outputs": [],
   "source": [
    "# Filter the duplex, triplex, etc...\n",
    "df = df[df.unitcnt == 1.0]"
   ]
  },
  {
   "cell_type": "code",
   "execution_count": 21,
   "metadata": {},
   "outputs": [
    {
     "data": {
      "text/plain": [
       "1.0    52268\n",
       "Name: unitcnt, dtype: int64"
      ]
     },
     "execution_count": 21,
     "metadata": {},
     "output_type": "execute_result"
    }
   ],
   "source": [
    "df.unitcnt.value_counts()"
   ]
  },
  {
   "cell_type": "code",
   "execution_count": 22,
   "metadata": {},
   "outputs": [],
   "source": [
    "# Drop logically unnecessary columns\n",
    "# Unnamed:0\n",
    "# id\n",
    "# id.1\n",
    "df = df.drop(columns=[\"Unnamed: 0\", \"id\", \"id.1\"])"
   ]
  },
  {
   "cell_type": "code",
   "execution_count": 23,
   "metadata": {},
   "outputs": [
    {
     "data": {
      "text/html": [
       "<div>\n",
       "<style scoped>\n",
       "    .dataframe tbody tr th:only-of-type {\n",
       "        vertical-align: middle;\n",
       "    }\n",
       "\n",
       "    .dataframe tbody tr th {\n",
       "        vertical-align: top;\n",
       "    }\n",
       "\n",
       "    .dataframe thead th {\n",
       "        text-align: right;\n",
       "    }\n",
       "</style>\n",
       "<table border=\"1\" class=\"dataframe\">\n",
       "  <thead>\n",
       "    <tr style=\"text-align: right;\">\n",
       "      <th></th>\n",
       "      <th>typeconstructiontypeid</th>\n",
       "      <th>storytypeid</th>\n",
       "      <th>propertylandusetypeid</th>\n",
       "      <th>heatingorsystemtypeid</th>\n",
       "      <th>buildingclasstypeid</th>\n",
       "      <th>architecturalstyletypeid</th>\n",
       "      <th>airconditioningtypeid</th>\n",
       "      <th>parcelid</th>\n",
       "      <th>basementsqft</th>\n",
       "      <th>bathroomcnt</th>\n",
       "      <th>...</th>\n",
       "      <th>censustractandblock</th>\n",
       "      <th>logerror</th>\n",
       "      <th>transactiondate</th>\n",
       "      <th>airconditioningdesc</th>\n",
       "      <th>architecturalstyledesc</th>\n",
       "      <th>buildingclassdesc</th>\n",
       "      <th>heatingorsystemdesc</th>\n",
       "      <th>propertylandusedesc</th>\n",
       "      <th>storydesc</th>\n",
       "      <th>typeconstructiondesc</th>\n",
       "    </tr>\n",
       "  </thead>\n",
       "  <tbody>\n",
       "    <tr>\n",
       "      <th>0</th>\n",
       "      <td>NaN</td>\n",
       "      <td>NaN</td>\n",
       "      <td>261.0</td>\n",
       "      <td>NaN</td>\n",
       "      <td>NaN</td>\n",
       "      <td>NaN</td>\n",
       "      <td>NaN</td>\n",
       "      <td>14297519</td>\n",
       "      <td>NaN</td>\n",
       "      <td>3.5</td>\n",
       "      <td>...</td>\n",
       "      <td>6.059063e+13</td>\n",
       "      <td>0.025595</td>\n",
       "      <td>2017-01-01</td>\n",
       "      <td>NaN</td>\n",
       "      <td>NaN</td>\n",
       "      <td>NaN</td>\n",
       "      <td>NaN</td>\n",
       "      <td>Single Family Residential</td>\n",
       "      <td>NaN</td>\n",
       "      <td>NaN</td>\n",
       "    </tr>\n",
       "    <tr>\n",
       "      <th>1</th>\n",
       "      <td>NaN</td>\n",
       "      <td>NaN</td>\n",
       "      <td>261.0</td>\n",
       "      <td>NaN</td>\n",
       "      <td>NaN</td>\n",
       "      <td>NaN</td>\n",
       "      <td>NaN</td>\n",
       "      <td>17052889</td>\n",
       "      <td>NaN</td>\n",
       "      <td>1.0</td>\n",
       "      <td>...</td>\n",
       "      <td>6.111001e+13</td>\n",
       "      <td>0.055619</td>\n",
       "      <td>2017-01-01</td>\n",
       "      <td>NaN</td>\n",
       "      <td>NaN</td>\n",
       "      <td>NaN</td>\n",
       "      <td>NaN</td>\n",
       "      <td>Single Family Residential</td>\n",
       "      <td>NaN</td>\n",
       "      <td>NaN</td>\n",
       "    </tr>\n",
       "    <tr>\n",
       "      <th>2</th>\n",
       "      <td>NaN</td>\n",
       "      <td>NaN</td>\n",
       "      <td>261.0</td>\n",
       "      <td>NaN</td>\n",
       "      <td>NaN</td>\n",
       "      <td>NaN</td>\n",
       "      <td>NaN</td>\n",
       "      <td>14186244</td>\n",
       "      <td>NaN</td>\n",
       "      <td>2.0</td>\n",
       "      <td>...</td>\n",
       "      <td>6.059022e+13</td>\n",
       "      <td>0.005383</td>\n",
       "      <td>2017-01-01</td>\n",
       "      <td>NaN</td>\n",
       "      <td>NaN</td>\n",
       "      <td>NaN</td>\n",
       "      <td>NaN</td>\n",
       "      <td>Single Family Residential</td>\n",
       "      <td>NaN</td>\n",
       "      <td>NaN</td>\n",
       "    </tr>\n",
       "    <tr>\n",
       "      <th>3</th>\n",
       "      <td>NaN</td>\n",
       "      <td>NaN</td>\n",
       "      <td>261.0</td>\n",
       "      <td>2.0</td>\n",
       "      <td>NaN</td>\n",
       "      <td>NaN</td>\n",
       "      <td>NaN</td>\n",
       "      <td>12177905</td>\n",
       "      <td>NaN</td>\n",
       "      <td>3.0</td>\n",
       "      <td>...</td>\n",
       "      <td>6.037300e+13</td>\n",
       "      <td>-0.103410</td>\n",
       "      <td>2017-01-01</td>\n",
       "      <td>NaN</td>\n",
       "      <td>NaN</td>\n",
       "      <td>NaN</td>\n",
       "      <td>Central</td>\n",
       "      <td>Single Family Residential</td>\n",
       "      <td>NaN</td>\n",
       "      <td>NaN</td>\n",
       "    </tr>\n",
       "    <tr>\n",
       "      <th>6</th>\n",
       "      <td>NaN</td>\n",
       "      <td>NaN</td>\n",
       "      <td>261.0</td>\n",
       "      <td>2.0</td>\n",
       "      <td>NaN</td>\n",
       "      <td>NaN</td>\n",
       "      <td>1.0</td>\n",
       "      <td>12095076</td>\n",
       "      <td>NaN</td>\n",
       "      <td>3.0</td>\n",
       "      <td>...</td>\n",
       "      <td>6.037461e+13</td>\n",
       "      <td>-0.001011</td>\n",
       "      <td>2017-01-01</td>\n",
       "      <td>Central</td>\n",
       "      <td>NaN</td>\n",
       "      <td>NaN</td>\n",
       "      <td>Central</td>\n",
       "      <td>Single Family Residential</td>\n",
       "      <td>NaN</td>\n",
       "      <td>NaN</td>\n",
       "    </tr>\n",
       "  </tbody>\n",
       "</table>\n",
       "<p>5 rows × 67 columns</p>\n",
       "</div>"
      ],
      "text/plain": [
       "   typeconstructiontypeid  storytypeid  propertylandusetypeid  \\\n",
       "0                     NaN          NaN                  261.0   \n",
       "1                     NaN          NaN                  261.0   \n",
       "2                     NaN          NaN                  261.0   \n",
       "3                     NaN          NaN                  261.0   \n",
       "6                     NaN          NaN                  261.0   \n",
       "\n",
       "   heatingorsystemtypeid  buildingclasstypeid  architecturalstyletypeid  \\\n",
       "0                    NaN                  NaN                       NaN   \n",
       "1                    NaN                  NaN                       NaN   \n",
       "2                    NaN                  NaN                       NaN   \n",
       "3                    2.0                  NaN                       NaN   \n",
       "6                    2.0                  NaN                       NaN   \n",
       "\n",
       "   airconditioningtypeid  parcelid  basementsqft  bathroomcnt  ...  \\\n",
       "0                    NaN  14297519           NaN          3.5  ...   \n",
       "1                    NaN  17052889           NaN          1.0  ...   \n",
       "2                    NaN  14186244           NaN          2.0  ...   \n",
       "3                    NaN  12177905           NaN          3.0  ...   \n",
       "6                    1.0  12095076           NaN          3.0  ...   \n",
       "\n",
       "   censustractandblock  logerror  transactiondate  airconditioningdesc  \\\n",
       "0         6.059063e+13  0.025595       2017-01-01                  NaN   \n",
       "1         6.111001e+13  0.055619       2017-01-01                  NaN   \n",
       "2         6.059022e+13  0.005383       2017-01-01                  NaN   \n",
       "3         6.037300e+13 -0.103410       2017-01-01                  NaN   \n",
       "6         6.037461e+13 -0.001011       2017-01-01              Central   \n",
       "\n",
       "   architecturalstyledesc  buildingclassdesc  heatingorsystemdesc  \\\n",
       "0                     NaN                NaN                  NaN   \n",
       "1                     NaN                NaN                  NaN   \n",
       "2                     NaN                NaN                  NaN   \n",
       "3                     NaN                NaN              Central   \n",
       "6                     NaN                NaN              Central   \n",
       "\n",
       "         propertylandusedesc  storydesc  typeconstructiondesc  \n",
       "0  Single Family Residential        NaN                   NaN  \n",
       "1  Single Family Residential        NaN                   NaN  \n",
       "2  Single Family Residential        NaN                   NaN  \n",
       "3  Single Family Residential        NaN                   NaN  \n",
       "6  Single Family Residential        NaN                   NaN  \n",
       "\n",
       "[5 rows x 67 columns]"
      ]
     },
     "execution_count": 23,
     "metadata": {},
     "output_type": "execute_result"
    }
   ],
   "source": [
    "df.head()"
   ]
  },
  {
   "cell_type": "code",
   "execution_count": 24,
   "metadata": {},
   "outputs": [],
   "source": [
    "def handle_missing_values(df, prop_required_column = .60, prop_required_row = .60):\n",
    "    threshold = int(round(prop_required_column*len(df.index),0))\n",
    "    df.dropna(axis=1, thresh=threshold, inplace=True)\n",
    "    threshold = int(round(prop_required_row*len(df.columns),0))\n",
    "    df.dropna(axis=0, thresh=threshold, inplace=True)\n",
    "    return df"
   ]
  },
  {
   "cell_type": "code",
   "execution_count": 25,
   "metadata": {},
   "outputs": [
    {
     "data": {
      "text/plain": [
       "(52268, 33)"
      ]
     },
     "execution_count": 25,
     "metadata": {},
     "output_type": "execute_result"
    }
   ],
   "source": [
    "df = handle_missing_values(df)\n",
    "df.shape"
   ]
  },
  {
   "cell_type": "code",
   "execution_count": 26,
   "metadata": {},
   "outputs": [
    {
     "data": {
      "text/plain": [
       "propertylandusetypeid               0\n",
       "heatingorsystemtypeid           18369\n",
       "parcelid                            0\n",
       "bathroomcnt                         0\n",
       "bedroomcnt                          0\n",
       "buildingqualitytypeid           18571\n",
       "calculatedbathnbr                  16\n",
       "calculatedfinishedsquarefeet        8\n",
       "finishedsquarefeet12              166\n",
       "fips                                0\n",
       "fullbathcnt                        16\n",
       "latitude                            0\n",
       "longitude                           0\n",
       "lotsizesquarefeet                 351\n",
       "propertycountylandusecode           0\n",
       "propertyzoningdesc              18510\n",
       "rawcensustractandblock              0\n",
       "regionidcity                     1029\n",
       "regionidcounty                      0\n",
       "regionidzip                        23\n",
       "roomcnt                             0\n",
       "unitcnt                             0\n",
       "yearbuilt                          40\n",
       "structuretaxvaluedollarcnt         71\n",
       "taxvaluedollarcnt                   1\n",
       "assessmentyear                      0\n",
       "landtaxvaluedollarcnt               1\n",
       "taxamount                           4\n",
       "censustractandblock               109\n",
       "logerror                            0\n",
       "transactiondate                     0\n",
       "heatingorsystemdesc             18369\n",
       "propertylandusedesc                 0\n",
       "dtype: int64"
      ]
     },
     "execution_count": 26,
     "metadata": {},
     "output_type": "execute_result"
    }
   ],
   "source": [
    "df.isnull().sum()"
   ]
  },
  {
   "cell_type": "code",
   "execution_count": 27,
   "metadata": {},
   "outputs": [],
   "source": [
    "# Columns to drop b/c they're ids of descriptions\n",
    "# propertylandusetypeid\n",
    "# heatingorsystemtypeid\n",
    "df = df.drop(columns=[\"propertylandusetypeid\", \"heatingorsystemtypeid\"])"
   ]
  },
  {
   "cell_type": "code",
   "execution_count": 28,
   "metadata": {},
   "outputs": [
    {
     "data": {
      "text/plain": [
       "parcelid                            0\n",
       "bathroomcnt                         0\n",
       "bedroomcnt                          0\n",
       "buildingqualitytypeid           18571\n",
       "calculatedbathnbr                  16\n",
       "calculatedfinishedsquarefeet        8\n",
       "finishedsquarefeet12              166\n",
       "fips                                0\n",
       "fullbathcnt                        16\n",
       "latitude                            0\n",
       "longitude                           0\n",
       "lotsizesquarefeet                 351\n",
       "propertycountylandusecode           0\n",
       "propertyzoningdesc              18510\n",
       "rawcensustractandblock              0\n",
       "regionidcity                     1029\n",
       "regionidcounty                      0\n",
       "regionidzip                        23\n",
       "roomcnt                             0\n",
       "unitcnt                             0\n",
       "yearbuilt                          40\n",
       "structuretaxvaluedollarcnt         71\n",
       "taxvaluedollarcnt                   1\n",
       "assessmentyear                      0\n",
       "landtaxvaluedollarcnt               1\n",
       "taxamount                           4\n",
       "censustractandblock               109\n",
       "logerror                            0\n",
       "transactiondate                     0\n",
       "heatingorsystemdesc             18369\n",
       "propertylandusedesc                 0\n",
       "dtype: int64"
      ]
     },
     "execution_count": 28,
     "metadata": {},
     "output_type": "execute_result"
    }
   ],
   "source": [
    "df.isnull().sum()"
   ]
  },
  {
   "cell_type": "code",
   "execution_count": 29,
   "metadata": {},
   "outputs": [
    {
     "data": {
      "text/plain": [
       "Central       20723\n",
       "NaN           18369\n",
       "Floor/Wall    12542\n",
       "Forced air      517\n",
       "Solar            85\n",
       "None             16\n",
       "Baseboard         7\n",
       "Radiant           6\n",
       "Gravity           2\n",
       "Yes               1\n",
       "Name: heatingorsystemdesc, dtype: int64"
      ]
     },
     "execution_count": 29,
     "metadata": {},
     "output_type": "execute_result"
    }
   ],
   "source": [
    "df.heatingorsystemdesc.value_counts(dropna=False)"
   ]
  },
  {
   "cell_type": "code",
   "execution_count": 30,
   "metadata": {},
   "outputs": [],
   "source": [
    "# b/c these properties are in southern california \n",
    "df.heatingorsystemdesc = df.heatingorsystemdesc.fillna(\"None\")"
   ]
  },
  {
   "cell_type": "code",
   "execution_count": 31,
   "metadata": {},
   "outputs": [
    {
     "data": {
      "text/plain": [
       "parcelid                            0\n",
       "bathroomcnt                         0\n",
       "bedroomcnt                          0\n",
       "buildingqualitytypeid           18571\n",
       "calculatedbathnbr                  16\n",
       "calculatedfinishedsquarefeet        8\n",
       "finishedsquarefeet12              166\n",
       "fips                                0\n",
       "fullbathcnt                        16\n",
       "latitude                            0\n",
       "longitude                           0\n",
       "lotsizesquarefeet                 351\n",
       "propertycountylandusecode           0\n",
       "propertyzoningdesc              18510\n",
       "rawcensustractandblock              0\n",
       "regionidcity                     1029\n",
       "regionidcounty                      0\n",
       "regionidzip                        23\n",
       "roomcnt                             0\n",
       "unitcnt                             0\n",
       "yearbuilt                          40\n",
       "structuretaxvaluedollarcnt         71\n",
       "taxvaluedollarcnt                   1\n",
       "assessmentyear                      0\n",
       "landtaxvaluedollarcnt               1\n",
       "taxamount                           4\n",
       "censustractandblock               109\n",
       "logerror                            0\n",
       "transactiondate                     0\n",
       "heatingorsystemdesc                 0\n",
       "propertylandusedesc                 0\n",
       "dtype: int64"
      ]
     },
     "execution_count": 31,
     "metadata": {},
     "output_type": "execute_result"
    }
   ],
   "source": [
    "df.isna().sum()"
   ]
  },
  {
   "cell_type": "code",
   "execution_count": 32,
   "metadata": {},
   "outputs": [],
   "source": [
    "df = df.drop(columns=[\"propertyzoningdesc\"])"
   ]
  },
  {
   "cell_type": "code",
   "execution_count": 33,
   "metadata": {},
   "outputs": [
    {
     "data": {
      "text/plain": [
       "parcelid                            0\n",
       "bathroomcnt                         0\n",
       "bedroomcnt                          0\n",
       "buildingqualitytypeid           18571\n",
       "calculatedbathnbr                  16\n",
       "calculatedfinishedsquarefeet        8\n",
       "finishedsquarefeet12              166\n",
       "fips                                0\n",
       "fullbathcnt                        16\n",
       "latitude                            0\n",
       "longitude                           0\n",
       "lotsizesquarefeet                 351\n",
       "propertycountylandusecode           0\n",
       "rawcensustractandblock              0\n",
       "regionidcity                     1029\n",
       "regionidcounty                      0\n",
       "regionidzip                        23\n",
       "roomcnt                             0\n",
       "unitcnt                             0\n",
       "yearbuilt                          40\n",
       "structuretaxvaluedollarcnt         71\n",
       "taxvaluedollarcnt                   1\n",
       "assessmentyear                      0\n",
       "landtaxvaluedollarcnt               1\n",
       "taxamount                           4\n",
       "censustractandblock               109\n",
       "logerror                            0\n",
       "transactiondate                     0\n",
       "heatingorsystemdesc                 0\n",
       "propertylandusedesc                 0\n",
       "dtype: int64"
      ]
     },
     "execution_count": 33,
     "metadata": {},
     "output_type": "execute_result"
    }
   ],
   "source": [
    "df.isna().sum()"
   ]
  },
  {
   "cell_type": "code",
   "execution_count": 34,
   "metadata": {},
   "outputs": [
    {
     "data": {
      "text/plain": [
       "<matplotlib.axes._subplots.AxesSubplot at 0x124e46c90>"
      ]
     },
     "execution_count": 34,
     "metadata": {},
     "output_type": "execute_result"
    },
    {
     "data": {
      "image/png": "[encoded data removed]",
      "text/plain": [
       "<Figure size 432x288 with 1 Axes>"
      ]
     },
     "metadata": {
      "needs_background": "light"
     },
     "output_type": "display_data"
    }
   ],
   "source": [
    "df.buildingqualitytypeid.hist(bins=10)"
   ]
  }
 ],
 "metadata": {
  "kernelspec": {
   "display_name": "Python 3",
   "language": "python",
   "name": "python3"
  },
  "language_info": {
   "codemirror_mode": {
    "name": "ipython",
    "version": 3
   },
   "file_extension": ".py",
   "mimetype": "text/x-python",
   "name": "python",
   "nbconvert_exporter": "python",
   "pygments_lexer": "ipython3",
   "version": "3.7.4"
  }
 },
 "nbformat": 4,
 "nbformat_minor": 2
}
